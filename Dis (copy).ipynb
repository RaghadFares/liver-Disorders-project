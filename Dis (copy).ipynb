{
  "metadata": {
    "kernelspec": {
      "name": "python",
      "display_name": "Python (Pyodide)",
      "language": "python"
    },
    "language_info": {
      "codemirror_mode": {
        "name": "python",
        "version": 3
      },
      "file_extension": ".py",
      "mimetype": "text/x-python",
      "name": "python",
      "nbconvert_exporter": "python",
      "pygments_lexer": "ipython3",
      "version": "3.8"
    }
  },
  "nbformat_minor": 4,
  "nbformat": 4,
  "cells": [
    {
      "cell_type": "markdown",
      "source": "# phase(1)\n\n### Goal of collecting this dataset:\nThe aim of creating this dataset is to study the differences between US patients and Indian patients with liver disease.\nTherefore, there are differences based on gender in predicting liver disease,\nas previous studies found the number of people infected with this disease,\nits prevalence rate, and many statistical details.\n\n\n### Source of dataset:\nhttps://www.kaggle.com/datasets/fatemehmehrparvar/liver-disorders",
      "metadata": {}
    },
    {
      "cell_type": "markdown",
      "source": "### Read dataset:",
      "metadata": {}
    },
    {
      "cell_type": "code",
      "source": "import pandas as pd\ndf = pd.read_csv('Indian Liver Patient Dataset (ILPD).csv')",
      "metadata": {
        "trusted": true
      },
      "outputs": [],
      "execution_count": 3
    },
    {
      "cell_type": "markdown",
      "source": "### General information about the dataset:\n- Number of attributes: 11\n- No. of objects: 583\r- \nClass labe: Selectord",
      "metadata": {}
    },
    {
      "cell_type": "code",
      "source": "num_attributes = len(df.columns)\nattribute_types = df.dtypes.to_frame().rename(columns={0: 'Data Types'})\nnum_objects = len(df)\nclass_name = df.columns[-1]  \n\ntext3= \"Number of attributes:\"\nbold_text3 = \"\\033[1m\" + text3 + \"\\033[0m\"\nprint(bold_text3, num_attributes)\nprint(\"\\n\")\n\ntext4= \"Attribute types:\"\nbold_text4 = \"\\033[1m\" + text4 + \"\\033[0m\"\nprint(bold_text4)\nprint(attribute_types)\nprint(\"\\n\")\n\ntext5= \"Number of objects:\"\nbold_text5 = \"\\033[1m\" + text5 + \"\\033[0m\"\nprint(bold_text5, num_objects)\nprint(\"\\n\")",
      "metadata": {
        "trusted": true
      },
      "outputs": [],
      "execution_count": null
    },
    {
      "cell_type": "markdown",
      "source": "###### ____________________\n# phase(2)\n\n### Attributes’ description table:\n",
      "metadata": {}
    },
    {
      "cell_type": "markdown",
      "source": "| Attribute Name    | Description                                        | Data Type     |Possible values          |\n|:-----------------:|:--------------------------------------------------|:-------------:|:-----------------------:|\n| Age               |   Represents the age of the patients.              | Numeric       |  4 to 90                |\n| Gender            |   Represents the gender of the patients.          | Categotical   |  \"Male\" or \"Female\"      |\n|  TB |It is an indicator of the total amount of bilirubin in the blood. Bilirubin is a yellow pigment produced by the breakdown of old red blood cells. It is associated with the liver.| Numeric   |  continuous numrical values(different possible) |\n| DB |refers to Direct Bilirubin. Direct Bilirubin (DB) refers specifically to the conjugated bilirubin, which is the form of bilirubin that is directly excreted by the liver into bile. | Numeric   |  continuous numrical values(different possible) |\n| Alkphos|refers to Alkaline Phosphatase. Alkaline phosphatase is an enzyme found primarily in the liver and bones.| Numeric   |  continuous numrical values(different possible) |\n| Sgpt |refers to Serum Glutamic Pyruvic Transaminase, also known as Alanine Aminotransferase (ALT). SGPT is an enzyme found primarily in the liver. | Numeric   |  continuous numrical values(different possible) |\n| Sgot |refers to Serum Glutamic Oxaloacetic Transaminase, also known as Aspartate Aminotransferase (AST). SGOT is an enzyme found primarily in the liver, heart, and muscles.| Numeric   |  continuous numrical values(different possible) |\n|TP|It measures the total protein level in the blood, which primarily consists of albumin and globulins.It is associated with the liver| Numeric   |  continuous numrical values(different possible) |\n| ALB |represents Albumin levels in the blood. Albumin is a protein produced by the liver. | Numeric   |  continuous numrical values(different possible) |\n| A/G Ratio |measures the ratio between albumin and globulins in the blood. Albumin is a type of protein primarily produced in the liver and plays a crucial role in maintaining blood pressure and transporting nutrients.| Numeric   |  continuous numrical values(different possible) |\n|Selector|is a class label indicating whether a patient has liver disease or not.| Binary   |  (1):\"liver disease\"<br>(2):\"not have liver disease\" |\n                                                 \n",
      "metadata": {}
    },
    {
      "cell_type": "markdown",
      "source": "### sample of 20 employees from the dataers:\n",
      "metadata": {}
    },
    {
      "cell_type": "code",
      "source": "sample=df.sample(n=20);\nprint(sample);",
      "metadata": {
        "trusted": true
      },
      "outputs": [
        {
          "name": "stdout",
          "text": "     Age  Gender    TB   DB  Alkphos  Sgpt  Sgot   TP  ALB  A/G Ratio  \\\n147   65    Male   0.7  0.1      392    20    30  5.3  2.8       1.10   \n308   45  Female   0.8  0.2      165    22    18  8.2  4.1       1.00   \n443   42  Female   0.7  0.2      152    35    81  6.2  3.2       1.06   \n122   58    Male   1.7  0.8      188    60    84  5.9  3.5       1.40   \n312   27    Male   1.3  0.6      106    25    54  8.5  4.8        NaN   \n304   55  Female   0.8  0.2      155    21    17  6.9  3.8       1.40   \n564   38  Female   0.6  0.1      165    22    34  5.9  2.9       0.90   \n382   58  Female   0.7  0.1      172    27    22  6.7  3.2       0.90   \n410   18    Male   1.4  0.6      215   440   850  5.0  1.9       0.60   \n251   33    Male   0.9  0.8      680    37    40  5.9  2.6       0.80   \n177   75    Male  14.8  9.0     1020    71    42  5.3  2.2       0.70   \n421   26    Male   1.0  0.3      163    48    71  7.1  3.7       1.00   \n207   40    Male   3.9  1.7      350   950  1500  6.7  3.8       1.30   \n204   21    Male   0.7  0.2      135    27    26  6.4  3.3       1.00   \n192   60    Male   2.3  0.6      272    79    51  6.6  3.5       1.10   \n525   53  Female   0.9  0.2      210    35    32  8.0  3.9       0.90   \n127   64    Male   3.0  1.4      248    46    40  6.5  3.2       0.90   \n182   65    Male   1.9  0.8      170    36    43  3.8  1.4       0.58   \n460   22  Female   2.2  1.0      215   159    51  5.5  2.5       0.80   \n279   48  Female   1.0  1.4      144    18    14  8.3  4.2       1.00   \n\n     Selector  \n147         1  \n308         1  \n443         1  \n122         2  \n312         2  \n304         1  \n564         2  \n382         1  \n410         1  \n251         1  \n177         1  \n421         2  \n207         1  \n204         2  \n192         1  \n525         2  \n127         1  \n182         2  \n460         1  \n279         1  \n",
          "output_type": "stream"
        }
      ],
      "execution_count": 9
    },
    {
      "cell_type": "code",
      "source": "",
      "metadata": {
        "trusted": true
      },
      "outputs": [],
      "execution_count": null
    }
  ]
}