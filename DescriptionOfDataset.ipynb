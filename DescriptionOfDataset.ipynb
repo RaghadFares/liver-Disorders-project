{
  "metadata": {
    "kernelspec": {
      "name": "python",
      "display_name": "Python (Pyodide)",
      "language": "python"
    },
    "language_info": {
      "codemirror_mode": {
        "name": "python",
        "version": 3
      },
      "file_extension": ".py",
      "mimetype": "text/x-python",
      "name": "python",
      "nbconvert_exporter": "python",
      "pygments_lexer": "ipython3",
      "version": "3.8"
    }
  },
  "nbformat_minor": 4,
  "nbformat": 4,
  "cells": [
    {
      "cell_type": "code",
      "source": "\n# Read the dataset\nimport pandas as pd\n\n# Read the Excel file\ndf = pd.read_csv('Indian Liver Patient Dataset (ILPD).csv')\n\n# Get general information about the dataset\nnum_attributes = len(df.columns)\nattribute_types = df.dtypes.to_frame().rename(columns={0: 'Data Types'})\nnum_objects = len(df)\nclass_name = df.columns[-1]  \n\n# Display the information\ntext1= \"General information about the dataset\" \nbold_text1 = \"\\033[1m\" + text1 + \"\\033[0m\"\nprint(bold_text1)\nprint(\"\\n\")\n\n\ntext= \"-The source of the dataSet:\"\nbold_text = \"\\033[1m\" + text + \"\\033[0m\"\nprint(bold_text, \"https://www.kaggle.com/datasets/fatemehmehrparvar/liver-disorders\")\nprint(\"\\n\")\n\ntext2= \"-The goal of collecting this dataset\" \nbold_text2 = \"\\033[1m\" + text2 + \"\\033[0m\"\nprint(bold_text2)\nprint(\"The aim of creating this dataset is to study the differences between US patients and Indian patients with liver disease.\")\nprint(\"Therefore, there are differences based on gender in predicting liver disease,\")\nprint(\"as previous studies found the number of people infected with this disease,\")\nprint(\"its prevalence rate, and many statistical details.\")\nprint(\"\\n\")\n\ntext3= \"- Number of attributes:\"\nbold_text3 = \"\\033[1m\" + text3 + \"\\033[0m\"\nprint(bold_text3, num_attributes)\nprint(\"\\n\")\n\ntext4= \"- Attribute types:\"\nbold_text4 = \"\\033[1m\" + text4 + \"\\033[0m\"\nprint(bold_text4)\nprint(attribute_types)\nprint(\"\\n\")\n\ntext5= \"- Number of objects:\"\nbold_text5 = \"\\033[1m\" + text5 + \"\\033[0m\"\nprint(bold_text5, num_objects)\nprint(\"\\n\")\n\ntext5= \"- label:\"\nbold_text5 = \"\\033[1m\" + text5 + \"\\033[0m\"\nprint(bold_text5, class_name)\nprint(\"\\n\")\n\n\n\n",
      "metadata": {
        "trusted": true
      },
      "outputs": [
        {
          "name": "stdout",
          "text": "\u001b[1mGeneral information about the dataset\u001b[0m\n\n\n\u001b[1m-The source of the dataSet:\u001b[0m https://www.kaggle.com/datasets/fatemehmehrparvar/liver-disorders\n\n\n\u001b[1m-The goal of collecting this dataset\u001b[0m\nThe aim of creating this dataset is to study the differences between US patients and Indian patients with liver disease.\nTherefore, there are differences based on gender in predicting liver disease,\nas previous studies found the number of people infected with this disease,\nits prevalence rate, and many statistical details.\n\n\n\u001b[1m- Number of attributes:\u001b[0m 11\n\n\n\u001b[1m- Attribute types:\u001b[0m\n          Data Types\nAge            int64\nGender        object\nTB           float64\nDB           float64\nAlkphos        int64\nSgpt           int64\nSgot           int64\nTP           float64\nALB          float64\nA/G Ratio    float64\nSelector       int64\n\n\n\u001b[1m- Number of objects:\u001b[0m 583\n\n\n\u001b[1m- label:\u001b[0m Selector\n\n\n",
          "output_type": "stream"
        }
      ],
      "execution_count": 34
    },
    {
      "cell_type": "code",
      "source": "",
      "metadata": {
        "trusted": true
      },
      "outputs": [],
      "execution_count": null
    }
  ]
}