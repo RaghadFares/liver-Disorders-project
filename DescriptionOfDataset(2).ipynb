{
  "metadata": {
    "kernelspec": {
      "name": "python",
      "display_name": "Python (Pyodide)",
      "language": "python"
    },
    "language_info": {
      "codemirror_mode": {
        "name": "python",
        "version": 3
      },
      "file_extension": ".py",
      "mimetype": "text/x-python",
      "name": "python",
      "nbconvert_exporter": "python",
      "pygments_lexer": "ipython3",
      "version": "3.8"
    }
  },
  "nbformat_minor": 4,
  "nbformat": 4,
  "cells": [
    {
      "cell_type": "markdown",
      "source": "# phase(2)\n\n## sample of 20 employees from the dataset:",
      "metadata": {}
    },
    {
      "cell_type": "code",
      "source": "import pandas as pd\ndf = pd.read_csv('Dis.csv');",
      "metadata": {
        "trusted": true
      },
      "outputs": [],
      "execution_count": 10
    },
    {
      "cell_type": "code",
      "source": "import pandas as pd\ndf = pd.read_csv('Dis.csv');\nsample=df.sample(n=20);\nprint(sample);",
      "metadata": {
        "trusted": true
      },
      "outputs": [
        {
          "name": "stdout",
          "text": "     Age  Gender    TB   DB  Alkphos  Sgpt  Sgot   TP  ALB  A/G Ratio  \\\n453   46    Male   0.7  0.2      224    40    23  7.1  3.0       0.70   \n261   33    Male   1.5  7.0      505   205   140  7.5  3.9       1.00   \n542   62    Male   0.7  0.2      173    46    47  7.3  4.1       1.20   \n237   35  Female   0.9  0.3      158    20    16  8.0  4.0       1.00   \n392   41    Male   7.5  4.3      149    94    92  6.3  3.1       0.90   \n236   22    Male   0.8  0.2      300    57    40  7.9  3.8       0.90   \n368   42  Female   0.8  0.2      182    22    20  7.2  3.9       1.10   \n571   90    Male   1.1  0.3      215    46   134  6.9  3.0       0.70   \n93    60    Male   5.8  2.7      204   220   400  7.0  3.0       0.70   \n567   52    Male   2.7  1.4      251    20    40  6.0  1.7       0.39   \n384   34    Male   3.7  2.1      490   115    91  6.5  2.8       0.70   \n170   72    Male   1.7  0.8      200    28    37  6.2  3.0       0.93   \n572   32    Male  15.6  9.5      134    54   125  5.6  4.0       2.50   \n306   48    Male   1.6  1.0      588    74   113  7.3  2.4       0.40   \n461   28  Female   0.8  0.2      309    55    23  6.8  4.1       1.51   \n127   64    Male   3.0  1.4      248    46    40  6.5  3.2       0.90   \n74    68    Male   0.7  0.1      145    20    22  5.8  2.9       1.00   \n4     72    Male   3.9  2.0      195    27    59  7.3  2.4       0.40   \n70    19  Female   0.7  0.2      186   166   397  5.5  3.0       1.20   \n104   63    Male   0.5  0.1      170    21    28  5.5  2.5       0.80   \n\n     Selector  \n453         1  \n261         1  \n542         2  \n237         1  \n392         1  \n236         2  \n368         1  \n571         1  \n93          1  \n567         1  \n384         1  \n170         1  \n572         1  \n306         1  \n461         1  \n127         1  \n74          1  \n4           1  \n70          1  \n104         1  \n",
          "output_type": "stream"
        }
      ],
      "execution_count": 2
    },
    {
      "cell_type": "code",
      "source": "",
      "metadata": {
        "trusted": true
      },
      "outputs": [],
      "execution_count": null
    },
    {
      "cell_type": "code",
      "source": "",
      "metadata": {
        "trusted": true
      },
      "outputs": [],
      "execution_count": null
    }
  ]
}
